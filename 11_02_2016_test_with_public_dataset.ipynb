{
 "cells": [
  {
   "cell_type": "code",
   "execution_count": 1,
   "metadata": {
    "collapsed": true
   },
   "outputs": [],
   "source": [
    "import pandas as pd\n",
    "\n",
    "%matplotlib inline\n",
    "import matplotlib.pyplot as plt\n",
    "import seaborn as sns\n",
    "import numpy as np\n",
    "from ggplot import *\n",
    "\n",
    "from probabinerator import Probabinerator"
   ]
  },
  {
   "cell_type": "code",
   "execution_count": 2,
   "metadata": {
    "collapsed": true
   },
   "outputs": [],
   "source": [
    "#try it with a different data set, for public release \n",
    "# info is here: http://statsmodels.sourceforge.net/devel/datasets/generated/modechoice.html"
   ]
  },
  {
   "cell_type": "code",
   "execution_count": 3,
   "metadata": {
    "collapsed": true
   },
   "outputs": [],
   "source": [
    "df = pd.read_csv(\"http://people.stern.nyu.edu/wgreene/Text/Edition7/TableF18-2.csv\")"
   ]
  },
  {
   "cell_type": "code",
   "execution_count": 4,
   "metadata": {
    "collapsed": false
   },
   "outputs": [
    {
     "data": {
      "text/html": [
       "<div>\n",
       "<table border=\"1\" class=\"dataframe\">\n",
       "  <thead>\n",
       "    <tr style=\"text-align: right;\">\n",
       "      <th></th>\n",
       "      <th>MODE</th>\n",
       "      <th>TTME</th>\n",
       "      <th>INVC</th>\n",
       "      <th>INVT</th>\n",
       "      <th>GC</th>\n",
       "      <th>HINC</th>\n",
       "      <th>PSIZE</th>\n",
       "    </tr>\n",
       "  </thead>\n",
       "  <tbody>\n",
       "    <tr>\n",
       "      <th>0</th>\n",
       "      <td>0</td>\n",
       "      <td>69</td>\n",
       "      <td>59</td>\n",
       "      <td>100</td>\n",
       "      <td>70</td>\n",
       "      <td>35</td>\n",
       "      <td>1</td>\n",
       "    </tr>\n",
       "    <tr>\n",
       "      <th>1</th>\n",
       "      <td>0</td>\n",
       "      <td>34</td>\n",
       "      <td>31</td>\n",
       "      <td>372</td>\n",
       "      <td>71</td>\n",
       "      <td>35</td>\n",
       "      <td>1</td>\n",
       "    </tr>\n",
       "    <tr>\n",
       "      <th>2</th>\n",
       "      <td>0</td>\n",
       "      <td>35</td>\n",
       "      <td>25</td>\n",
       "      <td>417</td>\n",
       "      <td>70</td>\n",
       "      <td>35</td>\n",
       "      <td>1</td>\n",
       "    </tr>\n",
       "    <tr>\n",
       "      <th>3</th>\n",
       "      <td>1</td>\n",
       "      <td>0</td>\n",
       "      <td>10</td>\n",
       "      <td>180</td>\n",
       "      <td>30</td>\n",
       "      <td>35</td>\n",
       "      <td>1</td>\n",
       "    </tr>\n",
       "    <tr>\n",
       "      <th>4</th>\n",
       "      <td>0</td>\n",
       "      <td>64</td>\n",
       "      <td>58</td>\n",
       "      <td>68</td>\n",
       "      <td>68</td>\n",
       "      <td>30</td>\n",
       "      <td>2</td>\n",
       "    </tr>\n",
       "  </tbody>\n",
       "</table>\n",
       "</div>"
      ],
      "text/plain": [
       "   MODE  TTME  INVC  INVT  GC  HINC  PSIZE \n",
       "0     0    69    59   100  70    35       1\n",
       "1     0    34    31   372  71    35       1\n",
       "2     0    35    25   417  70    35       1\n",
       "3     1     0    10   180  30    35       1\n",
       "4     0    64    58    68  68    30       2"
      ]
     },
     "execution_count": 4,
     "metadata": {},
     "output_type": "execute_result"
    }
   ],
   "source": [
    "df.head()"
   ]
  },
  {
   "cell_type": "code",
   "execution_count": 5,
   "metadata": {
    "collapsed": true
   },
   "outputs": [],
   "source": [
    "features = ['TTME', 'INVC']"
   ]
  },
  {
   "cell_type": "code",
   "execution_count": 6,
   "metadata": {
    "collapsed": false
   },
   "outputs": [
    {
     "data": {
      "text/plain": [
       "0     210\n",
       "53     94\n",
       "35     87\n",
       "69     77\n",
       "34     77\n",
       "64     75\n",
       "44     70\n",
       "30     27\n",
       "45     19\n",
       "15     17\n",
       "10     16\n",
       "40     11\n",
       "60      9\n",
       "20      9\n",
       "25      8\n",
       "50      7\n",
       "5       7\n",
       "75      6\n",
       "90      5\n",
       "55      2\n",
       "99      2\n",
       "16      1\n",
       "80      1\n",
       "85      1\n",
       "2       1\n",
       "1       1\n",
       "Name: TTME, dtype: int64"
      ]
     },
     "execution_count": 6,
     "metadata": {},
     "output_type": "execute_result"
    }
   ],
   "source": [
    "df['TTME'].value_counts()"
   ]
  },
  {
   "cell_type": "code",
   "execution_count": 7,
   "metadata": {
    "collapsed": false
   },
   "outputs": [
    {
     "data": {
      "text/plain": [
       "{1: [1, 2, 16, 85, 80],\n",
       " 2: [99, 55],\n",
       " 5: [90],\n",
       " 6: [75],\n",
       " 7: [5, 50],\n",
       " 8: [25],\n",
       " 9: [20, 60],\n",
       " 11: [40],\n",
       " 16: [10],\n",
       " 17: [15],\n",
       " 19: [45],\n",
       " 27: [30],\n",
       " 70: [44],\n",
       " 75: [64],\n",
       " 77: [69, 34],\n",
       " 87: [35],\n",
       " 94: [53],\n",
       " 210: [0]}"
      ]
     },
     "execution_count": 7,
     "metadata": {},
     "output_type": "execute_result"
    }
   ],
   "source": [
    "df.sort_values(by='TTME', inplace=True)\n",
    "prob = Probabinerator(df, features[0])\n",
    "prob.count_index()\n",
    "prob.invind"
   ]
  },
  {
   "cell_type": "code",
   "execution_count": 8,
   "metadata": {
    "collapsed": false
   },
   "outputs": [
    {
     "data": {
      "text/plain": [
       "247.0"
      ]
     },
     "execution_count": 8,
     "metadata": {},
     "output_type": "execute_result"
    }
   ],
   "source": [
    "count_target = sum(list(prob.invind.keys()))/3\n",
    "count_target"
   ]
  },
  {
   "cell_type": "code",
   "execution_count": 9,
   "metadata": {
    "collapsed": false
   },
   "outputs": [
    {
     "data": {
      "text/plain": [
       "[(210, [0]),\n",
       " (1, [1, 2, 16, 85, 80]),\n",
       " (7, [5, 50]),\n",
       " (16, [10]),\n",
       " (17, [15]),\n",
       " (9, [20, 60]),\n",
       " (8, [25]),\n",
       " (27, [30]),\n",
       " (87, [35]),\n",
       " (11, [40]),\n",
       " (70, [44]),\n",
       " (19, [45]),\n",
       " (94, [53]),\n",
       " (75, [64]),\n",
       " (77, [69, 34]),\n",
       " (6, [75]),\n",
       " (5, [90]),\n",
       " (2, [99, 55])]"
      ]
     },
     "execution_count": 9,
     "metadata": {},
     "output_type": "execute_result"
    }
   ],
   "source": [
    "kv_list = sorted(list(prob.invind.copy().items()), key=lambda x: x[1][0])\n",
    "kv_list"
   ]
  },
  {
   "cell_type": "code",
   "execution_count": 10,
   "metadata": {
    "collapsed": false
   },
   "outputs": [
    {
     "data": {
      "text/plain": [
       "{246: 64.0, 329: 16.0}"
      ]
     },
     "execution_count": 10,
     "metadata": {},
     "output_type": "execute_result"
    }
   ],
   "source": [
    "prob.bin_combiner(toplot=True)\n",
    "prob.newbins"
   ]
  },
  {
   "cell_type": "code",
   "execution_count": 11,
   "metadata": {
    "collapsed": false
   },
   "outputs": [
    {
     "data": {
      "text/plain": [
       "[[0, 35], [44, 90]]"
      ]
     },
     "execution_count": 11,
     "metadata": {},
     "output_type": "execute_result"
    }
   ],
   "source": [
    "prob.bin_combiner()\n",
    "prob.bin_ranges #missing 16 between 1 and 2; missing 55 between 2 and 3\n",
    "#need some logic to check for adjusting the ranges\n",
    "#probably need to keep track of which ones are being used, in order to find the ones that aren't"
   ]
  },
  {
   "cell_type": "code",
   "execution_count": 12,
   "metadata": {
    "collapsed": false
   },
   "outputs": [
    {
     "data": {
      "image/png": "[encoded data removed]",
      "text/plain": [
       "<matplotlib.figure.Figure at 0x104227710>"
      ]
     },
     "metadata": {},
     "output_type": "display_data"
    },
    {
     "data": {
      "text/plain": [
       "<ggplot: (272770859)>"
      ]
     },
     "execution_count": 12,
     "metadata": {},
     "output_type": "execute_result"
    }
   ],
   "source": [
    "prob.bin_combiner(toplot=True)\n",
    "prob.plot_with_newbins()"
   ]
  },
  {
   "cell_type": "code",
   "execution_count": 13,
   "metadata": {
    "collapsed": false
   },
   "outputs": [
    {
     "data": {
      "text/plain": [
       "<matplotlib.axes._subplots.AxesSubplot at 0x104275fd0>"
      ]
     },
     "execution_count": 13,
     "metadata": {},
     "output_type": "execute_result"
    },
    {
     "data": {
      "image/png": "[encoded data removed]",
      "text/plain": [
       "<matplotlib.figure.Figure at 0x10f6c7a90>"
      ]
     },
     "metadata": {},
     "output_type": "display_data"
    }
   ],
   "source": [
    "df['TTME'].plot(kind='hist', bins=10)"
   ]
  },
  {
   "cell_type": "code",
   "execution_count": 14,
   "metadata": {
    "collapsed": false
   },
   "outputs": [
    {
     "data": {
      "text/plain": [
       "<matplotlib.axes._subplots.AxesSubplot at 0x10f960908>"
      ]
     },
     "execution_count": 14,
     "metadata": {},
     "output_type": "execute_result"
    },
    {
     "data": {
      "image/png": "[encoded data removed]",
      "text/plain": [
       "<matplotlib.figure.Figure at 0x10ebb68d0>"
      ]
     },
     "metadata": {},
     "output_type": "display_data"
    }
   ],
   "source": [
    "df['TTME'].plot(kind='hist', bins=3)"
   ]
  },
  {
   "cell_type": "code",
   "execution_count": 15,
   "metadata": {
    "collapsed": false
   },
   "outputs": [
    {
     "data": {
      "text/plain": [
       "<matplotlib.axes._subplots.AxesSubplot at 0x10f7a1080>"
      ]
     },
     "execution_count": 15,
     "metadata": {},
     "output_type": "execute_result"
    },
    {
     "data": {
      "image/png": "[encoded data removed]",
      "text/plain": [
       "<matplotlib.figure.Figure at 0x10f7aaeb8>"
      ]
     },
     "metadata": {},
     "output_type": "display_data"
    }
   ],
   "source": [
    "df['INVC'].plot(kind='hist', bins=10)"
   ]
  },
  {
   "cell_type": "code",
   "execution_count": 16,
   "metadata": {
    "collapsed": false
   },
   "outputs": [
    {
     "data": {
      "text/plain": [
       "{1: [2,\n",
       "  3,\n",
       "  55,\n",
       "  63,\n",
       "  68,\n",
       "  79,\n",
       "  80,\n",
       "  95,\n",
       "  99,\n",
       "  101,\n",
       "  106,\n",
       "  114,\n",
       "  117,\n",
       "  118,\n",
       "  119,\n",
       "  124,\n",
       "  125,\n",
       "  126,\n",
       "  127,\n",
       "  129,\n",
       "  138,\n",
       "  142,\n",
       "  143,\n",
       "  145,\n",
       "  147,\n",
       "  148,\n",
       "  152,\n",
       "  165,\n",
       "  180],\n",
       " 2: [56, 77, 82, 83, 87, 97, 98, 100, 102, 112, 113, 115, 116, 120, 121, 151],\n",
       " 3: [40, 41, 42, 53, 57, 72, 76, 78, 84, 86, 88, 93, 105, 109, 110],\n",
       " 4: [65, 66, 73, 74, 85, 104],\n",
       " 5: [6, 36, 51, 52, 69, 90, 92, 94, 96, 107, 111],\n",
       " 6: [10, 20, 22, 23, 29, 37, 39, 49, 54, 62, 64, 67, 75, 81, 91],\n",
       " 7: [4, 5, 9, 11, 27, 34, 48],\n",
       " 8: [7, 8, 46],\n",
       " 9: [28, 61, 71, 108],\n",
       " 10: [15, 18, 47, 89, 103],\n",
       " 11: [38],\n",
       " 12: [16, 24, 50, 70],\n",
       " 13: [12, 14, 21, 30, 45],\n",
       " 14: [17, 60],\n",
       " 15: [33, 43, 44],\n",
       " 16: [19],\n",
       " 17: [35],\n",
       " 18: [26, 58],\n",
       " 20: [32],\n",
       " 24: [59],\n",
       " 27: [25],\n",
       " 33: [31],\n",
       " 36: [13]}"
      ]
     },
     "execution_count": 16,
     "metadata": {},
     "output_type": "execute_result"
    }
   ],
   "source": [
    "prob = Probabinerator(df, features[1])\n",
    "prob.count_index()\n",
    "prob.invind"
   ]
  },
  {
   "cell_type": "code",
   "execution_count": 17,
   "metadata": {
    "collapsed": false
   },
   "outputs": [
    {
     "data": {
      "image/png": "[encoded data removed]",
      "text/plain": [
       "<matplotlib.figure.Figure at 0x10ebf60b8>"
      ]
     },
     "metadata": {},
     "output_type": "display_data"
    },
    {
     "data": {
      "text/plain": [
       "<ggplot: (-9223372036570876412)>"
      ]
     },
     "execution_count": 17,
     "metadata": {},
     "output_type": "execute_result"
    }
   ],
   "source": [
    "prob.bin_combiner(bins=4, toplot=True)\n",
    "prob.plot_with_newbins()"
   ]
  },
  {
   "cell_type": "code",
   "execution_count": null,
   "metadata": {
    "collapsed": true
   },
   "outputs": [],
   "source": []
  }
 ],
 "metadata": {
  "anaconda-cloud": {},
  "kernelspec": {
   "display_name": "Python [conda env:auction_test]",
   "language": "python",
   "name": "conda-env-auction_test-py"
  },
  "language_info": {
   "codemirror_mode": {
    "name": "ipython",
    "version": 3
   },
   "file_extension": ".py",
   "mimetype": "text/x-python",
   "name": "python",
   "nbconvert_exporter": "python",
   "pygments_lexer": "ipython3",
   "version": "3.5.2"
  }
 },
 "nbformat": 4,
 "nbformat_minor": 1
}
